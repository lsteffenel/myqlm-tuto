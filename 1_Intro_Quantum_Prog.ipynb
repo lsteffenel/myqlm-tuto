{
 "cells": [
  {
   "cell_type": "markdown",
   "id": "cooked-concrete",
   "metadata": {},
   "source": [
    "# 1. Introduction to Quantum Programming\n",
    "\n",
    "Before starting to write your program, let's review some elements to help you understand what you are doing and why quantum computing is different from traditional computing.\n",
    "\n",
    "\n",
    "## What is a Qubit?\n",
    "\n",
    "The basis of a quantum computer is called a qubit. It is the quantum version of the classical binary bit. Although they seem similar concepts, they are quite different.\n",
    "\n",
    "One main difference with traditional computers is that the performance of a quantum computer is typically not measured by the speed of its CPU, but by the number of qubits it has. Unlike the computers we know, qubits are physical entities in a quantum computer (like vacuum tubes in early computers).\n",
    "\n",
    "<img src=\"./img/vacuum.jpg\" alt=\"Vacuum tube\" width=\"400\"/>"
   ]
  },
  {
   "cell_type": "markdown",
   "id": "incredible-houston",
   "metadata": {},
   "source": [
    "A classical bit can have two values 0 and 1. A qubit has equivalent states that are represented like |0> and |1> (the quantum bit equivalent of 0 and 1). A qubit, however, can be in a superposition of both states at the same time, and once measured, it will collapse to either |0> or |1>.\n",
    "\n",
    "**Superposition means that the value of a qubit can be in a state where it just has some probability that it would return |1> when measured, and some probability that it would return |0> when measured.** These probabilities are what is played with. You really must take the term probability literally here: if we would measure two qubits in identical states, they would not give the same result!\n",
    "\n",
    "The easiest way to visualize the state of a qubit is by using a Bloch sphere. The top of the Z-axes represents |0> and the lowest point of the Z-axes represents |1>. Any state of a qubit can be described as a combination of two vectors inside this sphere. Any state above the equator is more likely to return |0> and any state below the equator is more likely to return |1>. When the state is on the equator, the qubit has a 50/50 chance of returning |0> or |1>.\n",
    "\n",
    "<img src=\"./img/bloch.png\" alt=\"Block sphere\" width=\"400\"/>\n",
    "\n",
    "Mathematically this is represented using the following formula |𝜓> = 𝛼|0> + 𝛽|1>. |𝜓> is just a symbol to represent the value of a qubit and 𝛼 and 𝛽 are each time complex numbers called the probability amplitudes. Their values indicate the likelihood of the qubit becoming |0> or |1> when measured.\n",
    "\n",
    "These probability amplitudes are complex numbers, so 𝛼 and 𝛽 can be negative as well. The probability can be calculated from a probability amplitude by doing the square of its absolute value (so |𝛼|² for 𝛼 and |𝛽|² for 𝛽). And yes, as you would expect for probabilities, the sum adds up to 100% like this: |𝛼|² + |𝛽|² = 1."
   ]
  },
  {
   "cell_type": "markdown",
   "id": "younger-christianity",
   "metadata": {},
   "source": [
    "## Values and Measurement\n",
    "\n",
    "We see that a qubit can hold many \"simultaneous\" values with different probabilities each. It is ok, we don't need to be certain all the time.\n",
    "\n",
    "Indeed, in a traditional computer, we \"measure\" or \"read\" a bit constantly. Without reading it, we can't perform operations like AND, OR, NOT. We couldn't possibly AND something if we didn't know its value!\n",
    "\n",
    "In quantum computing, this works differently: during the execution of a quantum algorithm the value of a qubit is in this superposition state (where it has certain probabilities to become |1> and |0>) and gates (which compare to operators as we know them) perform operations by manipulating and rotating these probabilities. When your algorithm is finished and you need to get the result out of the system, you need to read or measure your qubit, and by doing so its value collapses to either |0> or |1>; all other information is lost.\n",
    "\n",
    "It's like a water pipe circuit, you put all derivations and faucets **before** you flood the line.\n",
    "\n",
    "<img src=\"./img/waterpipe.jpg\" width=300></img>"
   ]
  },
  {
   "cell_type": "markdown",
   "id": "medieval-auckland",
   "metadata": {},
   "source": [
    "## Entanglement\n",
    "\n",
    "Having multiple states is a nice thing, as we store more information in a single qubit unit than in a classical bit. However, this is not enough. Indeed, there are several devices that can hold more than binary information. For example, a pendulum has angle, amplitude, etc. \n",
    "\n",
    "<img src=\"./img/n7k.gif\" width=400></img>\n",
    "\n",
    "What makes qubits interesting is that they are subjected to **entanglement**. Quantum entanglement is a phenomenon of quantum mechanics where two particles (e.g. electronics) are shared or linked in such a way (no matter how far they are apart) that their state can no longer be seen as separate. If you read the value of one, that the value of the other one is automatically known.\n",
    "\n",
    "A classical and intuitive analogy that is often used is that of a pair of gloves. Suppose you have a pair of gloves and without looking you keep one and you give the other one to a friend. If you then look at your glove and you notice that you have the left glove, you know immediately that your friend will have the right glove. You could, therefore, consider the two gloves in that pair to be entangled.\n",
    "\n",
    "The same principle can be applied to qubits and although it may seem like a pointless capability, it's this feature that gives a quantum computer the ability to process much more data than a traditional computer can.\n",
    "\n",
    "Suppose you had three qubits that aren't entangled. As you've learned earlier, each qubit can be described using a formula like 𝛼|0> + 𝛽|1> where 𝛼 and 𝛽 are each time a complex number. So basically, if we run an algorithm using three non-entangled qubits, we have 3 x 2 = 6 complex numbers to work with.\n",
    "\n",
    "But as soon as these three qubits are entangled, we can't describe their states individually anymore. You can no longer say that there is a certain probability you'll get a particular value out of a particular qubit. You have to look at all three qubits as a whole. All you can say is that there is a certain probability that you'll end up with 000, and a certain probability that you'll end up with 001, and with 010, and so on! Notice that we no longer have 6 complex numbers, but now we have 8. So, by entangling three qubits, we gained 2 complex numbers.\n",
    "\n",
    "\n"
   ]
  },
  {
   "cell_type": "markdown",
   "id": "thorough-knitting",
   "metadata": {},
   "source": [
    "## Gates\n",
    "\n",
    "The equivalent of boolean operators in classical computers (AND, OR, NOT...) are called quantum gates. The key difference between quantum operators and operators in a traditional computer is that they are always reversible and… this is key… don't need a measurement to perform their operation (as explained earlier). A gate manipulates and rotates the probabilities inside the Bloch sphere and the result is a new superposition state of the qubit with new probabilities.\n",
    "\n",
    "Mathematically gates can be represented as a matrix multiplication of the state of the qubit with another matrix. Below are some examples of gates, but there are plenty of articles online if you want to learn more about them. Don't worry about what they mean or do at the moment. Just remember that every gate rotates and changes these probabilities in some very specific way (like a Y derivation or a faucet in a water plumbing circuit).\n",
    "\n",
    "**Also remember: we are working in a really low programming level.** We manipulate qubits and gates almost the same way as we work with registers and jumps in Assembler languages."
   ]
  },
  {
   "cell_type": "markdown",
   "id": "british-dispatch",
   "metadata": {},
   "source": [
    "## Simulation limits\n",
    "\n",
    "With entangled bits, the number of coefficients grows exponentially with the number of qubits: 1 qubit has 1^2 = 2 coefficients; 2 qubits have 2^2 = 4; 3 qubits have 2^3 = 8; 15 qubits have 2^15 = 32768 coefficients... Suppose we created a computer with 1000 qubits, then we have 2^1000 = 1,07E301 coefficients at our disposal. That's a 1 with 301 zeros behind it.\n",
    "\n",
    "This also explains why it is impossible to fully simulate a quantum computer using today's computers. To simulate qubits, you would need to store all these probability amplitudes. Assuming we use 32 bits (4 bytes) per probability amplitude, to simulate a quantum computer of 53 qubits (which already exists today), we would need 2^53*4 = 32768TBs of RAM.\n",
    "\n",
    "Note that you should not think of a 53-qubit quantum computer as a machine with that much RAM. **All this information only exists during the execution of the algorithm and irreversibly gets lost the second you measure it**. You can't use these probabilities in the same way as you would use variables in your code today.\n",
    "\n",
    "In our case, using myQLM, we can confortably run circuits with 6-10 qubits in the memory of your computer. Even if you have plenty of RAM, the exploration of the possible states will increase with the number of qubits and slow down your program (it's a simulator, afterall).\n"
   ]
  },
  {
   "cell_type": "markdown",
   "id": "private-newfoundland",
   "metadata": {},
   "source": [
    "## What about parallelism?\n",
    "\n",
    "As developers, when we hear parallelism, we tend to think of it as what we know and develop every day: multiple threads, processes, machines... all executing the same logic at the same time, but they all do it independently of each other. But when you look at any quantum algorithms you won't recognize any of these parallelism patterns, so how does it work?\n",
    "\n",
    "Parallelism in quantum computers works differently. There are no multiple \"threads\" each calculating a particular value. Instead, the parallelism comes from the fact that a qubit has all the values between |0> and |1> at the same time but each with different probabilities and gates manipulate/rotate all these probabilities at the same time. To leverage this parallelism, you need to find an algorithm which manipulates these probabilities in such a way that the chances that the final answer is the right one is as high as possible.\n",
    "\n",
    "This is why a quantum algorithm looks completely different from any algorithm as we write today. You can do an operation on all values of a qubit at the same time, but you shouldn't think of these operations as the same operations that you work with daily. They are not. The toolset that you have at your disposal to build your algorithms is completely different, and it's way more different than just a different syntax. You need to build using entirely different concepts."
   ]
  },
  {
   "cell_type": "markdown",
   "id": "miniature-platform",
   "metadata": {},
   "source": [
    "## When to use a quantum algorithm?\n",
    "\n",
    "Not every problem can be solved better using a quantum computer. If you can't come up with an algorithm that benefits from these superposition states and whose result can be defined by the basic states for your problem, then it can't be solved more efficiently using a quantum computer.\n",
    "\n",
    "That's why quantum computers will not replace traditional computers. There are only certain problems that are going to be suited to be solved using a quantum computer. Most of the things that you do on a computer (e.g. watching a video or reading this article….) can't be done better using a quantum computer. If anything, it would be slower, more expensive, and more unreliable to try to do that using a quantum computer.\n",
    "\n",
    "The performance gain of a quantum computer does not come from the fact that it can do operations quicker. It comes from the fact that you use completely different algorithms that can find an answer to a problem in much fewer steps."
   ]
  },
  {
   "cell_type": "markdown",
   "id": "capital-mailing",
   "metadata": {},
   "source": [
    "# Ready to do the next step?\n",
    "\n",
    "Now you know what a qubit and a gate are supposed to do. In the next notebooks you will be introduced to a programming language that allows you to express quantum circuits and to submit them to a simulator.\n",
    "\n",
    "Your \"practice\" journey starts [here](2_writing_quantum_program.ipynb)."
   ]
  },
  {
   "cell_type": "markdown",
   "id": "drawn-fight",
   "metadata": {},
   "source": [
    "*This intro text is largely based in the nice text from [Michael Vanhoutte](https://www.linkedin.com/pulse/understanding-quantum-computing-software-developers-michael-vanhoutte/)."
   ]
  },
  {
   "cell_type": "code",
   "execution_count": null,
   "id": "shaped-zimbabwe",
   "metadata": {},
   "outputs": [],
   "source": []
  }
 ],
 "metadata": {
  "kernelspec": {
   "display_name": "Python 3",
   "language": "python",
   "name": "python3"
  },
  "language_info": {
   "codemirror_mode": {
    "name": "ipython",
    "version": 3
   },
   "file_extension": ".py",
   "mimetype": "text/x-python",
   "name": "python",
   "nbconvert_exporter": "python",
   "pygments_lexer": "ipython3",
   "version": "3.6.13"
  }
 },
 "nbformat": 4,
 "nbformat_minor": 5
}
