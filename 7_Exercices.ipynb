{
 "cells": [
  {
   "cell_type": "markdown",
   "id": "limiting-burke",
   "metadata": {},
   "source": [
    "# 7. Hands-on exercices\n",
    "\n",
    "In this notebook you will find several exercices to apply what you learned about the creation of quantum algorithms.\n",
    "\n",
    "Don't hesitate to check the [Cheat Sheet](CheatSheet.ipynb) page and the other notebook examples. \n",
    "\n",
    "Also, don't hesitate to ask for help."
   ]
  },
  {
   "cell_type": "markdown",
   "id": "departmental-programmer",
   "metadata": {},
   "source": [
    "## Exercice 1 - Coding multiple value on set of qbits:\n",
    "With 3 qbits, you must have for result:\n",
    "1. 50% for value **4** and 50% for value **6**\n",
    "2. 50% for value **2** and 50% for value **3**\n",
    "3. 50% for value **4** and 50% for value **5**\n",
    "4. 50% for value **2** and 50% for value **5**\n",
    "\n",
    "Hint: Use 3 qubits to represent 2<sup>3</sup> states. Then, use the appropriate combination of gates to \"fix\" the probabilities of some qubits"
   ]
  },
  {
   "cell_type": "code",
   "execution_count": null,
   "id": "entertaining-credit",
   "metadata": {},
   "outputs": [],
   "source": [
    "# 50% 4 and 50% 6\n",
    "\n"
   ]
  },
  {
   "cell_type": "code",
   "execution_count": null,
   "id": "funded-deficit",
   "metadata": {},
   "outputs": [],
   "source": [
    "# 50% 2 and 50% 3\n",
    "\n"
   ]
  },
  {
   "cell_type": "code",
   "execution_count": null,
   "id": "brief-angel",
   "metadata": {},
   "outputs": [],
   "source": [
    "# 50% 4 and 50% 5\n",
    "\n"
   ]
  },
  {
   "cell_type": "code",
   "execution_count": null,
   "id": "enclosed-moses",
   "metadata": {},
   "outputs": [],
   "source": [
    "# 50% 2 and 50% 5\n",
    "\n"
   ]
  },
  {
   "cell_type": "markdown",
   "id": "written-hypothetical",
   "metadata": {},
   "source": [
    "## Exercice 2 - Coding multiple value on set of qbits:\n",
    "With 3 qbits, and without regard for the probability, you must have as result these values:\n",
    "*\t4, 5 or 6\n",
    "*\t1, 2 or 4"
   ]
  },
  {
   "cell_type": "code",
   "execution_count": null,
   "id": "present-construction",
   "metadata": {},
   "outputs": [],
   "source": [
    "# 4, 5 or 6\n"
   ]
  },
  {
   "cell_type": "code",
   "execution_count": null,
   "id": "recovered-execution",
   "metadata": {},
   "outputs": [],
   "source": [
    "# 1, 2 or 4\n",
    "\n"
   ]
  },
  {
   "cell_type": "markdown",
   "id": "three-somewhere",
   "metadata": {},
   "source": [
    "## Exercice 3 - Coding multiple value on set of qbits:\n",
    "If you have success the previous exercises, you can try with 6 qbits :\n",
    "*\t20 and 30\n",
    "*\tAny combination in your imagination!!\n"
   ]
  },
  {
   "cell_type": "code",
   "execution_count": null,
   "id": "drawn-wellington",
   "metadata": {},
   "outputs": [],
   "source": [
    "# 20 and 30\n",
    "\n"
   ]
  },
  {
   "cell_type": "code",
   "execution_count": null,
   "id": "ordinary-juvenile",
   "metadata": {},
   "outputs": [],
   "source": [
    "# your personnal \"combination\" set\n",
    "\n"
   ]
  },
  {
   "cell_type": "markdown",
   "id": "varying-pearl",
   "metadata": {},
   "source": [
    "## Exercice 4 - Incrementing:\n",
    "Define a circuit to apply +1 on the values encoded in a set of qbits.\n",
    "You can try to apply your circuit over the previous exercises.\n",
    "Exemple:\n",
    "*\tInput is 50% 4 and 50% 6 -> output will be 50% 5 and 50% 7.\n"
   ]
  },
  {
   "cell_type": "code",
   "execution_count": null,
   "id": "first-corpus",
   "metadata": {},
   "outputs": [],
   "source": []
  },
  {
   "cell_type": "markdown",
   "id": "surrounded-bradley",
   "metadata": {},
   "source": [
    "## Exercice 5 - Decrementing:\n",
    "Same question, but we apply -1."
   ]
  },
  {
   "cell_type": "code",
   "execution_count": null,
   "id": "electrical-noise",
   "metadata": {},
   "outputs": [],
   "source": []
  },
  {
   "cell_type": "markdown",
   "id": "romantic-federal",
   "metadata": {},
   "source": [
    "## Exercice 6 - Addition (challenge):\n",
    "We will try to make an addition between two Qnumbers.\n",
    "\n",
    "Obviously, we must prepare two set of qbits for encoding the two number.\n",
    "\n",
    "We defines this two set of qbits : N1 and N2\n",
    "\n",
    "We can define a circuit for set the result of N1+N2 in N2 …\n",
    "\n",
    "Good luck !\n"
   ]
  },
  {
   "cell_type": "code",
   "execution_count": null,
   "id": "rotary-theta",
   "metadata": {},
   "outputs": [],
   "source": [
    "\n"
   ]
  },
  {
   "cell_type": "markdown",
   "id": "athletic-steam",
   "metadata": {},
   "source": [
    ".\n",
    "\n",
    ".\n",
    "\n",
    ".\n",
    "\n",
    ".\n",
    "\n",
    ".\n",
    "\n",
    ".\n",
    "\n",
    ".\n",
    "\n",
    ".\n",
    "\n",
    ".\n",
    "\n",
    ".\n",
    "\n",
    ".\n",
    "\n",
    ".\n",
    "\n",
    ".\n",
    "\n",
    ".\n",
    "\n",
    ".\n",
    "\n",
    "### Solutions\n",
    "\n",
    "Only look here if your are really stuck ;)\n",
    "\n",
    "\n",
    "\n",
    "\n",
    "\n",
    "\n",
    "\n",
    "\n",
    "\n",
    "\n",
    "\n",
    "\n",
    "\n",
    "\n",
    "\n",
    "\n",
    "\n",
    "\n",
    "\n"
   ]
  },
  {
   "cell_type": "code",
   "execution_count": null,
   "id": "tired-triple",
   "metadata": {},
   "outputs": [],
   "source": [
    "#1.1 - 50% for value 4 and 50% for value 6\n",
    "%load sol/sol1.1.py\n"
   ]
  },
  {
   "cell_type": "code",
   "execution_count": null,
   "id": "upper-identifier",
   "metadata": {},
   "outputs": [],
   "source": [
    "#1.2 - 50% for value 2 and 50% for value 3\n",
    "%load sol/sol1.2.py"
   ]
  },
  {
   "cell_type": "code",
   "execution_count": null,
   "id": "political-proposition",
   "metadata": {},
   "outputs": [],
   "source": [
    "#1.3 - 50% for value 4 and 50% for value 5\n",
    "%load sol/sol1.3.py"
   ]
  },
  {
   "cell_type": "code",
   "execution_count": null,
   "id": "interesting-newfoundland",
   "metadata": {},
   "outputs": [],
   "source": [
    "# 1.4 - 50% for value 2 and 50% for value 5\n",
    "%load sol/sol1.4.py"
   ]
  },
  {
   "cell_type": "code",
   "execution_count": null,
   "id": "adverse-equilibrium",
   "metadata": {},
   "outputs": [],
   "source": [
    "# 2.1 - 4, 5 or 6\n",
    "%load sol/sol2.1.py"
   ]
  },
  {
   "cell_type": "markdown",
   "id": "impaired-moment",
   "metadata": {},
   "source": [
    "Exercices 2.2, 3.1 and 3.2 to come"
   ]
  },
  {
   "cell_type": "code",
   "execution_count": null,
   "id": "instructional-training",
   "metadata": {},
   "outputs": [],
   "source": [
    "# 4 - increment\n",
    "%load sol/sol4.py"
   ]
  },
  {
   "cell_type": "code",
   "execution_count": null,
   "id": "magnetic-commander",
   "metadata": {},
   "outputs": [],
   "source": [
    "# 5 - decrement\n",
    "%load sol/sol5.py"
   ]
  },
  {
   "cell_type": "code",
   "execution_count": null,
   "id": "polish-grace",
   "metadata": {},
   "outputs": [],
   "source": [
    "# 6 - Adder\n",
    "%load sol/sol6.py\n"
   ]
  },
  {
   "cell_type": "code",
   "execution_count": null,
   "id": "statistical-effects",
   "metadata": {},
   "outputs": [],
   "source": []
  }
 ],
 "metadata": {
  "kernelspec": {
   "display_name": "Python 3",
   "language": "python",
   "name": "python3"
  },
  "language_info": {
   "codemirror_mode": {
    "name": "ipython",
    "version": 3
   },
   "file_extension": ".py",
   "mimetype": "text/x-python",
   "name": "python",
   "nbconvert_exporter": "python",
   "pygments_lexer": "ipython3",
   "version": "3.6.13"
  }
 },
 "nbformat": 4,
 "nbformat_minor": 5
}
