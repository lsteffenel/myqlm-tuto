{
 "cells": [
  {
   "cell_type": "markdown",
   "metadata": {},
   "source": [
    "# Simulated annealing and QUBO on myQLM\n",
    "\n",
    "All the famous NP problems can be formulated as minimization or maximization problems, whose cost function can be cast to an Ising or Quadratic Unconstrained Binany Optimization (QUBO) form $-$ take a look at the [Introduction](./introduction.ipynb). \n",
    "At the same time, myQLM is equipped with a Simulated Annealing (SA) solver, which can heuristically find a solution of such Ising or QUBO problems. \n",
    "\n",
    "One is therefore welcome to explore solving some of these NP problems using SA. A list of the problems currently supported is provided below. \n",
    "\n",
    "In general, this folder contains notebooks that combine different tools provided inside the `qat.opt`, `qat.mc` and `qat.simulated_annealing` namespaces. \n",
    "\n",
    "#### Unconstrained Graph Problems\n",
    "- [Max Cut](./max_cut.ipynb)\n",
    "- [Graph Partitioning](./graph_partitioning.ipynb)\n",
    "\n",
    "#### Constrained Graph Problems\n",
    "- [K-Clique](./k_clique.ipynb)\n",
    "- [Vertex Cover](./vertex_cover.ipynb)\n",
    "\n",
    "#### Other NP Problems\n",
    "- [Number Partitioning](./number_partitioning.ipynb)\n"
   ]
  }
 ],
 "metadata": {
  "authors": [
   "Grigori Matein"
  ],
  "kernelspec": {
   "display_name": "Python 3",
   "language": "python",
   "name": "python3"
  },
  "language_info": {
   "codemirror_mode": {
    "name": "ipython",
    "version": 3
   },
   "file_extension": ".py",
   "mimetype": "text/x-python",
   "name": "python",
   "nbconvert_exporter": "python",
   "pygments_lexer": "ipython3",
   "version": "3.6.8"
  }
 },
 "nbformat": 4,
 "nbformat_minor": 2
}
