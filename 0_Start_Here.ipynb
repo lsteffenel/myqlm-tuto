{
 "cells": [
  {
   "cell_type": "markdown",
   "id": "diagnostic-yesterday",
   "metadata": {},
   "source": [
    "\n",
    "\n",
    "# Getting Start\n",
    "\n",
    "\n",
    "\n",
    "## Before starting: know your environment\n",
    "If you are running this tutorial in [mybinder.org](https://mybinder.org/v2/gh/lsteffenel/myqlm-tuto/HEAD?filepath=0_Start_Here.ipynb), be aware that they have a small tolerance for idle machines. As a consequence, a session that is considered \"idle\" for more than 10 minutes is shutdown and you have to relaunch it again.\n",
    "\n",
    "To avoid such problems, please try the following:\n",
    "\n",
    "* keep the tutorial pages always in the foreground\n",
    "* from the \"main\" page (click on the logo at the top-left), open a terminal (on the right, look for \"New\" button and choose \"New->Terminal\"\n",
    "\n",
    "With these two hints you shall not have many problems. If your session is deleted, just recreate it again (exercices are made to be sufficiently short).\n",
    "\n",
    "Also, if your Python kernel fails (sometimes it happens), just try to relaunch it, no worries.\n",
    "\n",
    "Now, have a nice tutorial sections, that starts with a bit of lecture.\n",
    "\n",
    "### Alternative environments\n",
    "\n",
    "Besides mybinder.org, you can run this tutorial in your own computer. This can be done by:\n",
    "* installing myQLM -> follow the instructions on [myQLM website](https://myqlm.github.io/myqlm_specific/install.html) \n",
    "* run a docker container --> `docker run -p 8080:8080 lsteffenel/myqlm-tuto`\n",
    "\n",
    "\n",
    "## Program for today\n",
    "\n",
    "1. [Introduction to Quantum Computing](1_Intro_Quantum_Prog.ipynb) - before start coding, this section gives you more elements to understand what is quantum computing from the viewpoint of a software developer. \n",
    "2. [Writing a Quantum Program](2_writing_quantum_program.ipynb) - in this section, you will be presented with the basic program structure using Python and myQLM libraries.\n",
    "3. [Example EPR Pair](3_example_epr_pair.ipynb) - this section presents a complete (but simple) example.\n",
    "4. [Advanced elements](4_advanced_elements.ipynb) - a few more details on advanced programming elements: gates, control, measurement, circuit export.\n",
    "5. [Simulation](5_simulation_overview.ipynb) - once you have a program, it's time to simulate the quantum circuit.\n",
    "6. [Run analysis](6_run_analysis.ipynb) - a rapid overview on how to analyse the results from your simulation.\n",
    "7. [Exercices](7_Exercices.ipynb) - Hands-on exercices to start developing your own programs\n",
    "\n",
    "In addition, you can check our [Cheat Sheet](CheatSheet.ipynb) and also the list of [available gates](available_gates.ipynb).\n",
    "\n",
    "\n",
    "\n",
    "## Credits: \n",
    "\n",
    "Part of the material is based on [myQLM tutorial](https://github.com/lsteffenel/myqlm-tuto) and the excellent article from [Michel Vanhoutte](https://www.linkedin.com/pulse/understanding-quantum-computing-software-developers-michael-vanhoutte/).\n",
    "\n",
    "These documents were developed for the tutorial session on quantum computing introduction at the [4th HPC Summer School 2021](https://cybercolombia.org/program-2021/). The material will remain available at [github](https://github.com/lsteffenel/myqlm-tuto).\n",
    "\n",
    "### Authors\n",
    "* Jean-François Couturier (Université de Reims Champagne Ardenne)\n",
    "* Luiz Angelo Steffenel (Université de Reims Champagne Ardenne)\n",
    "* Carlos Jaime Barrios Hernandez (Universidad Industrial de Santander)\n",
    "* Gilberto Javier Diaz Toro (Universidad Industrial de Santander/Université de Reims Champagne Ardenne)\n",
    "\n"
   ]
  },
  {
   "cell_type": "code",
   "execution_count": null,
   "id": "charitable-personal",
   "metadata": {},
   "outputs": [],
   "source": []
  }
 ],
 "metadata": {
  "kernelspec": {
   "display_name": "Python 3",
   "language": "python",
   "name": "python3"
  },
  "language_info": {
   "codemirror_mode": {
    "name": "ipython",
    "version": 3
   },
   "file_extension": ".py",
   "mimetype": "text/x-python",
   "name": "python",
   "nbconvert_exporter": "python",
   "pygments_lexer": "ipython3",
   "version": "3.6.13"
  }
 },
 "nbformat": 4,
 "nbformat_minor": 5
}
