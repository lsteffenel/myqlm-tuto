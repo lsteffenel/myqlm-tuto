{
 "cells": [
  {
   "cell_type": "markdown",
   "id": "lasting-division",
   "metadata": {},
   "source": [
    "# Cheat Sheet with basic instructions"
   ]
  },
  {
   "cell_type": "markdown",
   "id": "above-vault",
   "metadata": {},
   "source": [
    "## Basic elements"
   ]
  },
  {
   "cell_type": "markdown",
   "id": "hybrid-resort",
   "metadata": {},
   "source": [
    "### Initialization of program:\n",
    "You have to prepare the code for the transmission to the simulator"
   ]
  },
  {
   "cell_type": "code",
   "execution_count": null,
   "id": "continuous-hawaiian",
   "metadata": {},
   "outputs": [],
   "source": [
    "from qat.lang.AQASM import Program\n",
    "epr_prog = Program()"
   ]
  },
  {
   "cell_type": "markdown",
   "id": "neither-insight",
   "metadata": {},
   "source": [
    "### Importing the gates:\n",
    "\n",
    "You have to import the gates from the library to use them"
   ]
  },
  {
   "cell_type": "code",
   "execution_count": null,
   "id": "exempt-somalia",
   "metadata": {},
   "outputs": [],
   "source": [
    "from qat.lang.AQASM import H, X, CNOT, CCNOT"
   ]
  },
  {
   "cell_type": "markdown",
   "id": "olive-newport",
   "metadata": {},
   "source": [
    "### Allocation of Qbits:"
   ]
  },
  {
   "cell_type": "raw",
   "id": "rental-athens",
   "metadata": {},
   "source": [
    "name = epr_prog.qalloc(α)"
   ]
  },
  {
   "cell_type": "markdown",
   "id": "embedded-simulation",
   "metadata": {},
   "source": [
    "Where α is the number of qbits.\n",
    "name will be an array and you can acces any qbits with []  (exemple : name[0] )"
   ]
  },
  {
   "cell_type": "code",
   "execution_count": null,
   "id": "rubber-people",
   "metadata": {},
   "outputs": [],
   "source": [
    "qbits = epr_prog.qalloc(1)"
   ]
  },
  {
   "cell_type": "markdown",
   "id": "impaired-register",
   "metadata": {},
   "source": [
    "### Visualisation of the circuit:\n",
    "You can visualize the disposition of the gates on your circuit.\n"
   ]
  },
  {
   "cell_type": "code",
   "execution_count": null,
   "id": "color-sunrise",
   "metadata": {},
   "outputs": [],
   "source": [
    "circuit = epr_prog.to_circ()\n",
    "%qatdisplay --svg circuit"
   ]
  },
  {
   "cell_type": "markdown",
   "id": "cultural-democracy",
   "metadata": {},
   "source": [
    "\n",
    "\n",
    "## Applying gates to qubits "
   ]
  },
  {
   "cell_type": "markdown",
   "id": "korean-gnome",
   "metadata": {},
   "source": [
    "### Hadamar gate:\n",
    "The hadamar gate is use to set the superposition states on one qbits.\n",
    "if the probability was 100% 0 or 1, set the probability for 50% 0 and 50% 1.\n",
    "Appling a second Hadamar cancels the effect."
   ]
  },
  {
   "cell_type": "code",
   "execution_count": null,
   "id": "meaningful-paper",
   "metadata": {},
   "outputs": [],
   "source": [
    "epr_prog = Program()\n",
    "qbits = epr_prog.qalloc(1)\n",
    "\n",
    "# Hadamar gate\n",
    "epr_prog.apply(H, qbits[0]) \n",
    "\n",
    "circuit = epr_prog.to_circ()\n",
    "%qatdisplay --svg circuit"
   ]
  },
  {
   "cell_type": "markdown",
   "id": "governing-briefing",
   "metadata": {},
   "source": [
    "### Pauli-X gate (or NOT):\n",
    "The Pauli-X gate exchanges the probability of 1 and 0.\n",
    "If one of the probabilities is 100%, it’s equivalent to a classical “NOT”."
   ]
  },
  {
   "cell_type": "code",
   "execution_count": null,
   "id": "gorgeous-concept",
   "metadata": {},
   "outputs": [],
   "source": [
    "epr_prog = Program()\n",
    "qbits = epr_prog.qalloc(1)\n",
    "\n",
    "# Pauly-X gate\n",
    "epr_prog.apply(X, qbits[0]) \n",
    "\n",
    "\n",
    "circuit = epr_prog.to_circ()\n",
    "%qatdisplay --svg circuit"
   ]
  },
  {
   "cell_type": "markdown",
   "id": "legitimate-plane",
   "metadata": {},
   "source": [
    "### Controlled gates:\n",
    "Each existing gate can be submitted in control of others qbits.\n",
    "In such case, the gate will operate only when all the control qbits are on 1.\n",
    "When you apply a control, you need to define the number of qbits for control and apply it like following:"
   ]
  },
  {
   "cell_type": "code",
   "execution_count": null,
   "id": "confused-court",
   "metadata": {},
   "outputs": [],
   "source": [
    "epr_prog = Program()\n",
    "qbits = epr_prog.qalloc(4)\n",
    "\n",
    "# controlled gates\n",
    "epr_prog.apply(H.ctrl(3), qbits[0], qbits[1], qbits[2], qbits[3]) \n",
    "\n",
    "circuit = epr_prog.to_circ()\n",
    "%qatdisplay --svg circuit"
   ]
  },
  {
   "cell_type": "markdown",
   "id": "lovely-bradford",
   "metadata": {},
   "source": [
    "### CNOT gate:\n",
    "It is a preprogrammed controlled NOT, apply on 2 qbits."
   ]
  },
  {
   "cell_type": "code",
   "execution_count": null,
   "id": "comparative-diamond",
   "metadata": {},
   "outputs": [],
   "source": [
    "epr_prog = Program()\n",
    "qbits = epr_prog.qalloc(2)\n",
    "\n",
    "# CNOT gate\n",
    "epr_prog.apply(CNOT, qbits[0], qbits[1])\n",
    "\n",
    "circuit = epr_prog.to_circ()\n",
    "%qatdisplay --svg circuit"
   ]
  },
  {
   "cell_type": "markdown",
   "id": "further-prisoner",
   "metadata": {},
   "source": [
    "### Tofoly gate or CCNOT:\n",
    "An evolution of the CNOT, with 2 control qbits."
   ]
  },
  {
   "cell_type": "code",
   "execution_count": null,
   "id": "identified-innocent",
   "metadata": {},
   "outputs": [],
   "source": [
    "epr_prog = Program()\n",
    "qbits = epr_prog.qalloc(3)\n",
    "\n",
    "# Tofoly gate (CCNOT)\n",
    "epr_prog.apply(CCNOT, qbits[0], qbits[1], qbits[2])\n",
    "\n",
    "circuit = epr_prog.to_circ()\n",
    "%qatdisplay --svg circuit"
   ]
  },
  {
   "cell_type": "markdown",
   "id": "underlying-soldier",
   "metadata": {},
   "source": [
    "## Execution and Result visualization"
   ]
  },
  {
   "cell_type": "markdown",
   "id": "dying-avatar",
   "metadata": {},
   "source": [
    "### Code Execution in the QLM simulator:\n",
    "Before execution, you have to define which version of the simulator will be use, initialize the computation, then submit it."
   ]
  },
  {
   "cell_type": "code",
   "execution_count": null,
   "id": "peaceful-parameter",
   "metadata": {},
   "outputs": [],
   "source": [
    "from qat.qpus import PyLinalg\n",
    "qpu = PyLinalg()\n",
    "job = circuit.to_job()\n",
    "result = qpu.submit(job)"
   ]
  },
  {
   "cell_type": "markdown",
   "id": "american-scoop",
   "metadata": {},
   "source": [
    "### Visualisation of the result:\n",
    "The result of the simulator will be a list of each possible output.\n",
    "You can also access to the theorical probability of each result.\n",
    "\n",
    "Warning : the probabilities are only for information."
   ]
  },
  {
   "cell_type": "code",
   "execution_count": null,
   "id": "fabulous-orange",
   "metadata": {},
   "outputs": [],
   "source": [
    "for sample in result:\n",
    "    print(\"State\", sample.state, \"with probability :\", sample.probability)"
   ]
  },
  {
   "cell_type": "code",
   "execution_count": null,
   "id": "tough-summit",
   "metadata": {},
   "outputs": [],
   "source": []
  }
 ],
 "metadata": {
  "kernelspec": {
   "display_name": "Python 3",
   "language": "python",
   "name": "python3"
  },
  "language_info": {
   "codemirror_mode": {
    "name": "ipython",
    "version": 3
   },
   "file_extension": ".py",
   "mimetype": "text/x-python",
   "name": "python",
   "nbconvert_exporter": "python",
   "pygments_lexer": "ipython3",
   "version": "3.6.13"
  }
 },
 "nbformat": 4,
 "nbformat_minor": 5
}
